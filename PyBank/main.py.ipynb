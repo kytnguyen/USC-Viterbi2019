{
 "cells": [
  {
   "cell_type": "markdown",
   "metadata": {},
   "source": [
    "Import Modules: \n",
    "\n"
   ]
  },
  {
   "cell_type": "code",
   "execution_count": 1,
   "metadata": {},
   "outputs": [],
   "source": [
    "# Modules:\n",
    "\n",
    "import pandas as pd \n",
    "import os "
   ]
  },
  {
   "cell_type": "markdown",
   "metadata": {},
   "source": [
    "Set File Path: "
   ]
  },
  {
   "cell_type": "code",
   "execution_count": 2,
   "metadata": {},
   "outputs": [
    {
     "data": {
      "text/html": [
       "<div>\n",
       "<style scoped>\n",
       "    .dataframe tbody tr th:only-of-type {\n",
       "        vertical-align: middle;\n",
       "    }\n",
       "\n",
       "    .dataframe tbody tr th {\n",
       "        vertical-align: top;\n",
       "    }\n",
       "\n",
       "    .dataframe thead th {\n",
       "        text-align: right;\n",
       "    }\n",
       "</style>\n",
       "<table border=\"1\" class=\"dataframe\">\n",
       "  <thead>\n",
       "    <tr style=\"text-align: right;\">\n",
       "      <th></th>\n",
       "      <th>Date</th>\n",
       "      <th>Profit/Losses</th>\n",
       "      <th>Average Change</th>\n",
       "    </tr>\n",
       "  </thead>\n",
       "  <tbody>\n",
       "    <tr>\n",
       "      <th>0</th>\n",
       "      <td>Jan-2010</td>\n",
       "      <td>867884</td>\n",
       "      <td>NaN</td>\n",
       "    </tr>\n",
       "    <tr>\n",
       "      <th>1</th>\n",
       "      <td>Feb-2010</td>\n",
       "      <td>984655</td>\n",
       "      <td>116771.0</td>\n",
       "    </tr>\n",
       "    <tr>\n",
       "      <th>2</th>\n",
       "      <td>Mar-2010</td>\n",
       "      <td>322013</td>\n",
       "      <td>-662642.0</td>\n",
       "    </tr>\n",
       "    <tr>\n",
       "      <th>3</th>\n",
       "      <td>Apr-2010</td>\n",
       "      <td>-69417</td>\n",
       "      <td>-391430.0</td>\n",
       "    </tr>\n",
       "    <tr>\n",
       "      <th>4</th>\n",
       "      <td>May-2010</td>\n",
       "      <td>310503</td>\n",
       "      <td>379920.0</td>\n",
       "    </tr>\n",
       "  </tbody>\n",
       "</table>\n",
       "</div>"
      ],
      "text/plain": [
       "       Date  Profit/Losses  Average Change\n",
       "0  Jan-2010         867884             NaN\n",
       "1  Feb-2010         984655        116771.0\n",
       "2  Mar-2010         322013       -662642.0\n",
       "3  Apr-2010         -69417       -391430.0\n",
       "4  May-2010         310503        379920.0"
      ]
     },
     "execution_count": 2,
     "metadata": {},
     "output_type": "execute_result"
    }
   ],
   "source": [
    "# File Path: \n",
    "\n",
    "data_file =\"03-Python_Homework_PyBank_Resources_budget_data.csv\"\n",
    "data_file_pd = pd.read_csv(data_file)\n",
    "\n",
    "# Add in a columm show the month to month change value \n",
    "data_file_pd[\"Average Change\"] = data_file_pd[\"Profit/Losses\"].diff()\n",
    "data_file_pd.head()"
   ]
  },
  {
   "cell_type": "code",
   "execution_count": 3,
   "metadata": {},
   "outputs": [
    {
     "name": "stdout",
     "output_type": "stream",
     "text": [
      "FINANCIAL ANALYSIS\n",
      "-------------------------------------------------------\n",
      "Total Months:  86\n",
      "Total Profit:  38382578\n",
      "Average Change:  -2315.1176470588234\n",
      "Greatest Increase:  Sep-2016 ( 1926159.0 )\n",
      "Greatest Decrease:  Apr-2010 ( -2196167.0 )\n"
     ]
    }
   ],
   "source": [
    "# Count the total months: \n",
    "total_month = data_file_pd[\"Date\"].count()\n",
    "\n",
    "# Sum the total profit: \n",
    "total_profit = data_file_pd[\"Profit/Losses\"].sum()\n",
    "\n",
    "# Calculate the average change\" \n",
    "average_change = data_file_pd[\"Average Change\"].mean()\n",
    "\n",
    "# Find the greatest increase month and it value: \n",
    "greatest_increase = data_file_pd[\"Average Change\"].max()\n",
    "greatest_increase_month = data_file_pd[\"Date\"].max()\n",
    "\n",
    "# Find the greatest decrease month and it value:\n",
    "greatest_decrease = data_file_pd[\"Average Change\"].min()\n",
    "greatest_decrease_month = data_file_pd[\"Date\"].min()\n",
    "\n",
    "#Print it all out:\n",
    "print(\"FINANCIAL ANALYSIS\")\n",
    "print(\"-------------------------------------------------------\")\n",
    "print(\"Total Months: \" , total_month)\n",
    "print(\"Total Profit: \" , total_profit)\n",
    "print(\"Average Change: \" , average_change)\n",
    "print(\"Greatest Increase: \" , greatest_increase_month, \"(\", greatest_increase, \")\" )\n",
    "print(\"Greatest Decrease: \" , greatest_decrease_month, \"(\", greatest_decrease, \")\" )"
   ]
  },
  {
   "cell_type": "code",
   "execution_count": null,
   "metadata": {},
   "outputs": [],
   "source": []
  }
 ],
 "metadata": {
  "kernelspec": {
   "display_name": "Python 3",
   "language": "python",
   "name": "python3"
  },
  "language_info": {
   "codemirror_mode": {
    "name": "ipython",
    "version": 3
   },
   "file_extension": ".py",
   "mimetype": "text/x-python",
   "name": "python",
   "nbconvert_exporter": "python",
   "pygments_lexer": "ipython3",
   "version": "3.7.3"
  }
 },
 "nbformat": 4,
 "nbformat_minor": 2
}
