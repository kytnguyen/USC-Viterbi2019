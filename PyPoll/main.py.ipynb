{
 "cells": [
  {
   "cell_type": "code",
   "execution_count": 1,
   "metadata": {},
   "outputs": [],
   "source": [
    "# Modules:\n",
    "\n",
    "import pandas as pd \n",
    "import os "
   ]
  },
  {
   "cell_type": "code",
   "execution_count": 2,
   "metadata": {},
   "outputs": [
    {
     "data": {
      "text/html": [
       "<div>\n",
       "<style scoped>\n",
       "    .dataframe tbody tr th:only-of-type {\n",
       "        vertical-align: middle;\n",
       "    }\n",
       "\n",
       "    .dataframe tbody tr th {\n",
       "        vertical-align: top;\n",
       "    }\n",
       "\n",
       "    .dataframe thead th {\n",
       "        text-align: right;\n",
       "    }\n",
       "</style>\n",
       "<table border=\"1\" class=\"dataframe\">\n",
       "  <thead>\n",
       "    <tr style=\"text-align: right;\">\n",
       "      <th></th>\n",
       "      <th>Voter ID</th>\n",
       "      <th>County</th>\n",
       "      <th>Candidate</th>\n",
       "    </tr>\n",
       "  </thead>\n",
       "  <tbody>\n",
       "    <tr>\n",
       "      <th>0</th>\n",
       "      <td>12864552</td>\n",
       "      <td>Marsh</td>\n",
       "      <td>Khan</td>\n",
       "    </tr>\n",
       "    <tr>\n",
       "      <th>1</th>\n",
       "      <td>17444633</td>\n",
       "      <td>Marsh</td>\n",
       "      <td>Correy</td>\n",
       "    </tr>\n",
       "    <tr>\n",
       "      <th>2</th>\n",
       "      <td>19330107</td>\n",
       "      <td>Marsh</td>\n",
       "      <td>Khan</td>\n",
       "    </tr>\n",
       "    <tr>\n",
       "      <th>3</th>\n",
       "      <td>19865775</td>\n",
       "      <td>Queen</td>\n",
       "      <td>Khan</td>\n",
       "    </tr>\n",
       "    <tr>\n",
       "      <th>4</th>\n",
       "      <td>11927875</td>\n",
       "      <td>Marsh</td>\n",
       "      <td>Khan</td>\n",
       "    </tr>\n",
       "  </tbody>\n",
       "</table>\n",
       "</div>"
      ],
      "text/plain": [
       "   Voter ID County Candidate\n",
       "0  12864552  Marsh      Khan\n",
       "1  17444633  Marsh    Correy\n",
       "2  19330107  Marsh      Khan\n",
       "3  19865775  Queen      Khan\n",
       "4  11927875  Marsh      Khan"
      ]
     },
     "execution_count": 2,
     "metadata": {},
     "output_type": "execute_result"
    }
   ],
   "source": [
    "# File Path , and setting data frame (df):\n",
    "\n",
    "df =\"03-Python_Homework_PyPoll_Resources_election_data.csv\"\n",
    "df = pd.read_csv(df)\n",
    "df.head()\n",
    "\n"
   ]
  },
  {
   "cell_type": "code",
   "execution_count": 30,
   "metadata": {},
   "outputs": [
    {
     "name": "stdout",
     "output_type": "stream",
     "text": [
      "Election Results\n",
      "-------------------------\n",
      "Total Votes: 3521001\n",
      "-------------------------\n",
      "Khan :     63.0% (2218231)\n",
      "Correy :   20.0% (704200)\n",
      "Li :       14.0% (492940)\n",
      "O'Tooley : 3.0%  (105630)\n",
      "-------------------------\n",
      "The Winner is Khan\n",
      "-------------------------\n"
     ]
    }
   ],
   "source": [
    "# Calculate Total Vote: \n",
    "\n",
    "total_vote = df[\"Voter ID\"].count()\n",
    "\n",
    "# Calculate each candidate total Vote and Percentage of Vote: \n",
    "\n",
    "candidate_name = df[\"Candidate\"].unique()\n",
    "candidate_vote = df[\"Candidate\"].value_counts()\n",
    "candidate_percentage = candidate_vote/candidate_vote.sum() * 100\n",
    "\n",
    "# Round the percentage: \n",
    "candidate_percentage = candidate_percentage.round(decimals=2)\n",
    "\n",
    "# Find the winner with highest vote percentage:\n",
    "winner = candidate_percentage.idxmax()\n",
    "\n",
    "\n",
    "# Print the result out: \n",
    "\n",
    "print(\"Election Results\")\n",
    "print(\"-------------------------\")\n",
    "print(f'Total Votes: {total_vote}')\n",
    "print(\"-------------------------\")\n",
    "print(f'{candidate_name[0]} :     {candidate_percentage[0]}% ({candidate_vote[0]})')\n",
    "print(f'{candidate_name[1]} :   {candidate_percentage[1]}% ({candidate_vote[1]})')\n",
    "print(f'{candidate_name[2]} :       {candidate_percentage[2]}% ({candidate_vote[2]})')\n",
    "print(f'{candidate_name[3]} : {candidate_percentage[3]}%  ({candidate_vote[3]})')\n",
    "print(\"-------------------------\")\n",
    "print(f'The Winner is {winner}')\n",
    "print(\"-------------------------\")\n",
    "\n",
    "\n"
   ]
  }
 ],
 "metadata": {
  "kernelspec": {
   "display_name": "Python 3",
   "language": "python",
   "name": "python3"
  },
  "language_info": {
   "codemirror_mode": {
    "name": "ipython",
    "version": 3
   },
   "file_extension": ".py",
   "mimetype": "text/x-python",
   "name": "python",
   "nbconvert_exporter": "python",
   "pygments_lexer": "ipython3",
   "version": "3.7.3"
  }
 },
 "nbformat": 4,
 "nbformat_minor": 2
}
